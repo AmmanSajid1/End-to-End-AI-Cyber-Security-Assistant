{
 "cells": [
  {
   "cell_type": "markdown",
   "metadata": {},
   "source": [
    "# Web Scraping Cybersecurity Data"
   ]
  },
  {
   "cell_type": "code",
   "execution_count": 1,
   "metadata": {},
   "outputs": [],
   "source": [
    "import requests \n",
    "from bs4 import BeautifulSoup \n",
    "import json\n",
    "import os"
   ]
  },
  {
   "cell_type": "code",
   "execution_count": 2,
   "metadata": {},
   "outputs": [
    {
     "data": {
      "text/plain": [
       "'c:\\\\Users\\\\amman\\\\Documents\\\\Generative AI\\\\End-to-End-AI-Cyber-Security-Assistant\\\\notebooks'"
      ]
     },
     "execution_count": 2,
     "metadata": {},
     "output_type": "execute_result"
    }
   ],
   "source": [
    "%pwd"
   ]
  },
  {
   "cell_type": "code",
   "execution_count": 3,
   "metadata": {},
   "outputs": [
    {
     "data": {
      "text/plain": [
       "'c:\\\\Users\\\\amman\\\\Documents\\\\Generative AI\\\\End-to-End-AI-Cyber-Security-Assistant'"
      ]
     },
     "execution_count": 3,
     "metadata": {},
     "output_type": "execute_result"
    }
   ],
   "source": [
    "os.chdir(\"../\")\n",
    "%pwd"
   ]
  },
  {
   "cell_type": "code",
   "execution_count": 4,
   "metadata": {},
   "outputs": [],
   "source": [
    "URL_LIST = [\"https://attack.mitre.org/tactics/enterprise/\", \"https://attack.mitre.org/tactics/mobile/\", \n",
    "            \"https://attack.mitre.org/tactics/ics/\"]\n"
   ]
  },
  {
   "cell_type": "markdown",
   "metadata": {},
   "source": [
    "### Scrape Tactics Data"
   ]
  },
  {
   "cell_type": "code",
   "execution_count": 5,
   "metadata": {},
   "outputs": [],
   "source": [
    "def get_tactic_urls(base_url_list):\n",
    "    base_url = \"https://attack.mitre.org/tactics/\"\n",
    "    tactic_urls = []\n",
    "    for url in base_url_list:\n",
    "        response = requests.get(url)\n",
    "        soup = BeautifulSoup(response.text, \"html.parser\")\n",
    "\n",
    "        # Get tactic IDS\n",
    "        for row in soup.find_all(\"tr\")[1:]:\n",
    "            cols = row.find_all(\"td\")\n",
    "            tactic_id = cols[0].text.strip()\n",
    "            tactic_url = base_url + tactic_id + \"/\"\n",
    "            tactic_urls.append(tactic_url)\n",
    "            \n",
    "\n",
    "    return tactic_urls"
   ]
  },
  {
   "cell_type": "code",
   "execution_count": 6,
   "metadata": {},
   "outputs": [
    {
     "data": {
      "text/plain": [
       "['https://attack.mitre.org/tactics/TA0043/',\n",
       " 'https://attack.mitre.org/tactics/TA0042/',\n",
       " 'https://attack.mitre.org/tactics/TA0001/',\n",
       " 'https://attack.mitre.org/tactics/TA0002/',\n",
       " 'https://attack.mitre.org/tactics/TA0003/',\n",
       " 'https://attack.mitre.org/tactics/TA0004/',\n",
       " 'https://attack.mitre.org/tactics/TA0005/',\n",
       " 'https://attack.mitre.org/tactics/TA0006/',\n",
       " 'https://attack.mitre.org/tactics/TA0007/',\n",
       " 'https://attack.mitre.org/tactics/TA0008/',\n",
       " 'https://attack.mitre.org/tactics/TA0009/',\n",
       " 'https://attack.mitre.org/tactics/TA0011/',\n",
       " 'https://attack.mitre.org/tactics/TA0010/',\n",
       " 'https://attack.mitre.org/tactics/TA0040/',\n",
       " 'https://attack.mitre.org/tactics/TA0027/',\n",
       " 'https://attack.mitre.org/tactics/TA0041/',\n",
       " 'https://attack.mitre.org/tactics/TA0028/',\n",
       " 'https://attack.mitre.org/tactics/TA0029/',\n",
       " 'https://attack.mitre.org/tactics/TA0030/',\n",
       " 'https://attack.mitre.org/tactics/TA0031/',\n",
       " 'https://attack.mitre.org/tactics/TA0032/',\n",
       " 'https://attack.mitre.org/tactics/TA0033/',\n",
       " 'https://attack.mitre.org/tactics/TA0035/',\n",
       " 'https://attack.mitre.org/tactics/TA0037/',\n",
       " 'https://attack.mitre.org/tactics/TA0036/',\n",
       " 'https://attack.mitre.org/tactics/TA0034/',\n",
       " 'https://attack.mitre.org/tactics/TA0038/',\n",
       " 'https://attack.mitre.org/tactics/TA0039/',\n",
       " 'https://attack.mitre.org/tactics/TA0108/',\n",
       " 'https://attack.mitre.org/tactics/TA0104/',\n",
       " 'https://attack.mitre.org/tactics/TA0110/',\n",
       " 'https://attack.mitre.org/tactics/TA0111/',\n",
       " 'https://attack.mitre.org/tactics/TA0103/',\n",
       " 'https://attack.mitre.org/tactics/TA0102/',\n",
       " 'https://attack.mitre.org/tactics/TA0109/',\n",
       " 'https://attack.mitre.org/tactics/TA0100/',\n",
       " 'https://attack.mitre.org/tactics/TA0101/',\n",
       " 'https://attack.mitre.org/tactics/TA0107/',\n",
       " 'https://attack.mitre.org/tactics/TA0106/',\n",
       " 'https://attack.mitre.org/tactics/TA0105/']"
      ]
     },
     "execution_count": 6,
     "metadata": {},
     "output_type": "execute_result"
    }
   ],
   "source": [
    "tactic_urls = get_tactic_urls(URL_LIST)\n",
    "tactic_urls"
   ]
  },
  {
   "cell_type": "code",
   "execution_count": 7,
   "metadata": {},
   "outputs": [
    {
     "data": {
      "text/plain": [
       "['Reconnaissance: The adversary is trying to gather information they can use to plan future operations.Reconnaissance consists of techniques that involve adversaries actively or passively gathering information that can be used to support targeting. Such information may include details of the victim organization, infrastructure, or staff/personnel. This information can be leveraged by the adversary to aid in other phases of the adversary lifecycle, such as using gathered information to plan and execute Initial Access, to scope and prioritize post-compromise objectives, or to drive and lead further Reconnaissance efforts.',\n",
       " 'Resource Development: The adversary is trying to establish resources they can use to support operations.Resource Development consists of techniques that involve adversaries creating, purchasing, or compromising/stealing resources that can be used to support targeting. Such resources include infrastructure, accounts, or capabilities. These resources can be leveraged by the adversary to aid in other phases of the adversary lifecycle, such as using purchased domains to support Command and Control, email accounts for phishing as a part of Initial Access, or stealing code signing certificates to help with Defense Evasion.',\n",
       " 'Initial Access: The adversary is trying to get into your network.Initial Access consists of techniques that use various entry vectors to gain their initial foothold within a network. Techniques used to gain a foothold include targeted spearphishing and exploiting weaknesses on public-facing web servers. Footholds gained through initial access may allow for continued access, like valid accounts and use of external remote services, or may be limited-use due to changing passwords.',\n",
       " 'Execution: The adversary is trying to run malicious code.Execution consists of techniques that result in adversary-controlled code running on a local or remote system. Techniques that run malicious code are often paired with techniques from all other tactics to achieve broader goals, like exploring a network or stealing data. For example, an adversary might use a remote access tool to run a PowerShell script that does Remote System Discovery.',\n",
       " 'Persistence: The adversary is trying to maintain their foothold.Persistence consists of techniques that adversaries use to keep access to systems across restarts, changed credentials, and other interruptions that could cut off their access. Techniques used for persistence include any access, action, or configuration changes that let them maintain their foothold on systems, such as replacing or hijacking legitimate code or adding startup code.',\n",
       " 'Privilege Escalation: The adversary is trying to gain higher-level permissions.Privilege Escalation consists of techniques that adversaries use to gain higher-level permissions on a system or network. Adversaries can often enter and explore a network with unprivileged access but require elevated permissions to follow through on their objectives. Common approaches are to take advantage of system weaknesses, misconfigurations, and vulnerabilities. Examples of elevated access include:These techniques often overlap with Persistence techniques, as OS features that let an adversary persist can execute in an elevated context.',\n",
       " 'Defense Evasion: The adversary is trying to avoid being detected.Defense Evasion consists of techniques that adversaries use to avoid detection throughout their compromise. Techniques used for defense evasion include uninstalling/disabling security software or obfuscating/encrypting data and scripts. Adversaries also leverage and abuse trusted processes to hide and masquerade their malware. Other tactics’ techniques are cross-listed here when those techniques include the added benefit of subverting defenses.',\n",
       " 'Credential Access: The adversary is trying to steal account names and passwords.Credential Access consists of techniques for stealing credentials like account names and passwords. Techniques used to get credentials include keylogging or credential dumping. Using legitimate credentials can give adversaries access to systems, make them harder to detect, and provide the opportunity to create more accounts to help achieve their goals.',\n",
       " 'Discovery: The adversary is trying to figure out your environment.Discovery consists of techniques an adversary may use to gain knowledge about the system and internal network. These techniques help adversaries observe the environment and orient themselves before deciding how to act. They also allow adversaries to explore what they can control and what’s around their entry point in order to discover how it could benefit their current objective. Native operating system tools are often used toward this post-compromise information-gathering objective.',\n",
       " 'Lateral Movement: The adversary is trying to move through your environment.Lateral Movement consists of techniques that adversaries use to enter and control remote systems on a network. Following through on their primary objective often requires exploring the network to find their target and subsequently gaining access to it. Reaching their objective often involves pivoting through multiple systems and accounts to gain. Adversaries might install their own remote access tools to accomplish Lateral Movement or use legitimate credentials with native network and operating system tools, which may be stealthier.',\n",
       " \"Collection: The adversary is trying to gather data of interest to their goal.Collection consists of techniques adversaries may use to gather information and the sources information is collected from that are relevant to following through on the adversary's objectives. Frequently, the next goal after collecting data is to either steal (exfiltrate) the data or to use the data to gain more information about the target environment. Common target sources include various drive types, browsers, audio, video, and email. Common collection methods include capturing screenshots and keyboard input.\",\n",
       " 'Command and Control: The adversary is trying to communicate with compromised systems to control them.Command and Control consists of techniques that adversaries may use to communicate with systems under their control within a victim network. Adversaries commonly attempt to mimic normal, expected traffic to avoid detection. There are many ways an adversary can establish command and control with various levels of stealth depending on the victim’s network structure and defenses.',\n",
       " 'Exfiltration: The adversary is trying to steal data.Exfiltration consists of techniques that adversaries may use to steal data from your network. Once they’ve collected data, adversaries often package it to avoid detection while removing it. This can include compression and encryption. Techniques for getting data out of a target network typically include transferring it over their command and control channel or an alternate channel and may also include putting size limits on the transmission.',\n",
       " 'Impact: The adversary is trying to manipulate, interrupt, or destroy your systems and data.Impact consists of techniques that adversaries use to disrupt availability or compromise integrity by manipulating business and operational processes. Techniques used for impact can include destroying or tampering with data. In some cases, business processes can look fine, but may have been altered to benefit the adversaries’ goals. These techniques might be used by adversaries to follow through on their end goal or to provide cover for a confidentiality breach.',\n",
       " 'Initial Access: The adversary is trying to get into your device.The initial access tactic represents the vectors adversaries use to gain an initial foothold onto a mobile device.',\n",
       " 'Execution: The adversary is trying to run malicious code.Execution consists of techniques that result in adversary-controlled code running on a mobile device. Techniques that run malicious code are often paired with techniques from all other tactics to achieve broader goals, like exploring a network or stealing data.',\n",
       " 'Persistence: The adversary is trying to maintain their foothold.Persistence is any access, action, or configuration change to a mobile device that gives an attacker a persistent presence on the device. Attackers often will need to maintain access to mobile devices through interruptions such as device reboots and potentially even factory data resets.',\n",
       " 'Privilege Escalation: The adversary is trying to gain higher-level permissions.Privilege escalation includes techniques that allow an attacker to obtain a higher level of permissions on the mobile device. Attackers may enter the mobile device with very limited privileges and may be required to take advantage of a device weakness to obtain higher privileges necessary to successfully carry out their mission objectives.',\n",
       " 'Defense Evasion: The adversary is trying to avoid being detected.Defense evasion consists of techniques an adversary may use to evade detection or avoid other defenses. Sometimes these actions are the same as or variations of techniques in other categories that have the added benefit of subverting a particular defense or mitigation. Defense evasion may be considered a set of attributes the adversary applies to all other phases of the operation.',\n",
       " \"Credential Access: The adversary is trying to steal account names, passwords, or other secrets that enable access to resources.Credential access represents techniques that can be used by adversaries to obtain access to or control over passwords, tokens, cryptographic keys, or other values that could be used by an adversary to gain unauthorized access to resources. Credential access allows the adversary to assume the identity of an account, with all of that account's permissions on the system and network, and makes it harder for defenders to detect the adversary. With sufficient access within a network, an adversary can create accounts for later use within the environment.\",\n",
       " 'Discovery: The adversary is trying to figure out your environment.Discovery consists of techniques that allow the adversary to gain knowledge about the characteristics of the mobile device and potentially other networked systems. When adversaries gain access to a new system, they must orient themselves to what they now have control of and what benefits operating from that system give to their current objective or overall goals during the intrusion. The operating system may provide capabilities that aid in this post-compromise information-gathering phase.',\n",
       " 'Lateral Movement: The adversary is trying to move through your environment.Lateral movement consists of techniques that enable an adversary to access and control remote systems on a network and could, but does not necessarily, include execution of tools on remote systems. The lateral movement techniques could allow an adversary to gather information from a system without needing additional tools, such as a remote access tool.',\n",
       " 'Collection: The adversary is trying to gather data of interest to their goal.Collection consists of techniques used to identify and gather information, such as sensitive files, from a target network prior to exfiltration. This category also covers locations on a system or network where the adversary may look for information to exfiltrate.',\n",
       " \"Command and Control: The adversary is trying to communicate with compromised devices to control them.The command and control tactic represents how adversaries communicate with systems under their control within a target network. There are many ways an adversary can establish command and control with various levels of covertness, depending on system configuration and network topology. Due to the wide degree of variation available to the adversary at the network level, only the most common factors were used to describe the differences in command and control. There are still a great many specific techniques within the documented methods, largely due to how easy it is to define new protocols and use existing, legitimate protocols and network services for communication.The resulting breakdown should help convey the concept that detecting intrusion through command and control protocols without prior knowledge is a difficult proposition over the long term. Adversaries' main constraints in network-level defense avoidance are testing and deployment of tools to rapidly change their protocols, awareness of existing defensive technologies, and access to legitimate Web services that, when used appropriately, make their tools difficult to distinguish from benign traffic.Additionally, in the mobile environment, mobile devices are frequently connected to networks outside enterprise control such as cellular networks or public Wi-Fi networks. Adversaries could attempt to evade detection by communicating on these networks, and potentially even by using non-Internet Protocol mechanisms such as Short Message Service (SMS). However, cellular networks often have data caps and/or extra data charges that could increase the potential for adversarial communication to be detected.\",\n",
       " 'Exfiltration: The adversary is trying to steal data.Exfiltration refers to techniques and attributes that result or aid in the adversary removing files and information from the targeted mobile device.In the mobile environment, mobile devices are frequently connected to networks outside enterprise control such as cellular networks or public Wi-Fi networks. Adversaries could attempt to evade detection by communicating on these networks, and potentially even by using non-Internet Protocol mechanisms such as Short Message Service (SMS). However, cellular networks often have data caps and/or extra data charges that could increase the potential for adversarial communication to be detected.',\n",
       " \"Impact: The adversary is trying to manipulate, interrupt, or destroy your devices and data.The impact tactic consists of techniques used by the adversary to execute his or her mission objectives but that do not cleanly fit into another category such as Collection. Mission objectives vary based on each adversary's goals, but examples include toll fraud, destruction of device data, or locking the user out of his or her device until a ransom is paid.\",\n",
       " 'Network Effects: The adversary is trying to intercept or manipulate network traffic to or from a device.',\n",
       " 'Remote Service Effects: The adversary is trying to control or monitor the device using remote services.',\n",
       " 'Initial Access: The adversary is trying to get into your ICS environment.Initial Access consists of techniques that adversaries may use as entry vectors to gain an initial foothold within an ICS environment. These techniques include compromising operational technology assets, IT resources in the OT network, and external remote services and websites. They may also target third party entities and users with privileged access. In particular, these initial access footholds may include devices and communication mechanisms with access to and privileges in both the IT and OT environments. IT resources in the OT environment are also potentially vulnerable to the same attacks as enterprise IT systems. Trusted third parties of concern may include vendors, maintenance personnel, engineers, external integrators, and other outside entities involved in expected ICS operations. Vendor maintained assets may include physical devices, software, and operational equipment. Initial access techniques may also leverage outside devices, such as radios, controllers, or removable media, to remotely interfere with and possibly infect OT operations.',\n",
       " 'Execution: The adversary is trying to run code or manipulate system functions, parameters, and data in an unauthorized way.Execution consists of techniques that result in adversary-controlled code running on a local or remote system, device, or other asset. This execution may also rely on unknowing end users or the manipulation of device operating modes to run. Adversaries may infect remote targets with programmed executables or malicious project files that operate according to specified behavior and may alter expected device behavior in subtle ways. Commands for execution may also be issued from command-line interfaces, APIs, GUIs, or other available interfaces. Techniques that run malicious code may also be paired with techniques from other tactics, particularly to aid network Discovery and Collection, impact operations, and inhibit response functions.',\n",
       " 'Persistence: The adversary is trying to maintain their foothold in your ICS environment.Persistence consists of techniques that adversaries use to maintain access to ICS systems and devices across restarts, changed credentials, and other interruptions that could cut off their access. Techniques used for persistence include any access, action, or configuration changes that allow them to secure their ongoing activity and keep their foothold on systems. This may include replacing or hijacking legitimate code, firmware, and other project files, or adding startup code and downloading programs onto devices.',\n",
       " 'Privilege Escalation: The adversary is trying to gain higher-level permissions.Privilege Escalation consists of techniques that adversaries use to gain higher-level permissions on a system or network. Adversaries can often enter and explore a network with unprivileged access but require elevated permissions to follow through on their objectives. Common approaches are to take advantage of system weaknesses, misconfigurations, and vulnerabilities.',\n",
       " 'Evasion: The adversary is trying to avoid security defenses.Evasion consists of techniques that adversaries use to avoid technical defenses throughout their campaign. Techniques used for evasion include removal of indicators of compromise, spoofing communications, and exploiting software vulnerabilities. Adversaries may also leverage and abuse trusted devices and processes to hide their activity, possibly by masquerading as master devices or native software. Methods of defense evasion for this purpose are often more passive in nature.',\n",
       " 'Discovery: The adversary is locating information to assess and identify their targets in your environment.Discovery consists of techniques that adversaries use to survey your ICS environment and gain knowledge about the internal network, control system devices, and how their processes interact. These techniques help adversaries observe the environment and determine next steps for target selection and Lateral Movement. They also allow adversaries to explore what they can control and gain insight on interactions between various control system processes. Discovery techniques are often an act of progression into the environment which enable the adversary to orient themselves before deciding how to act. Adversaries may use Discovery techniques that result in Collection, to help determine how available resources benefit their current objective. A combination of native device communications and functions, and custom tools are often used toward this post-compromise information-gathering objective.',\n",
       " 'Lateral Movement: The adversary is trying to move through your ICS environment.Lateral Movement consists of techniques that adversaries use to enter and control remote systems on a network. These techniques abuse default credentials, known accounts, and vulnerable services, and may also leverage dual-homed devices and systems that reside on both the IT and OT networks. The adversary uses these techniques to pivot to their next point in the environment, positioning themselves to where they want to be or think they should be. Following through on their primary objective often requires Discovery of the network and Collection to develop awareness of unique ICS devices and processes, in order to find their target and subsequently gain access to it. Reaching this objective often involves pivoting through multiple systems, devices, and accounts. Adversaries may install their own remote tools to accomplish Lateral Movement or leverage default tools, programs, and manufacturer set or other legitimate credentials native to the network, which may be stealthier.',\n",
       " 'Collection: The adversary is trying to gather data of interest and domain knowledge on your ICS environment to inform their goal.Collection consists of techniques adversaries use to gather domain knowledge and obtain contextual feedback in an ICS environment. This tactic is often performed as part of Discovery, to compile data on control systems and targets of interest that may be used to follow through on the adversary’s objective. Examples of these techniques include observing operation states, capturing screenshots, identifying unique device roles, and gathering system and diagram schematics. Collection of this data can play a key role in planning, executing, and even revising an ICS-targeted attack. Methods of collection depend on the categories of data being targeted, which can include protocol specific, device specific, and process specific configurations and functionality. Information collected may pertain to a combination of system, supervisory, device, and network related data, which conceptually fall under high, medium, and low levels of plan operations. For example, information repositories on plant data at a high level or device specific programs at a low level. Sensitive floor plans, vendor device manuals, and other references may also be at risk and exposed on the internet or otherwise publicly accessible.',\n",
       " 'Command and Control: The adversary is trying to communicate with and control compromised systems, controllers, and platforms with access to your ICS environment.Command and Control consists of techniques that adversaries use to communicate with and send commands to compromised systems, devices, controllers, and platforms with specialized applications used in ICS environments. Examples of these specialized communication devices include human machine interfaces (HMIs), data historians, SCADA servers, and engineering workstations (EWS). Adversaries often seek to use commonly available resources and mimic expected network traffic to avoid detection and suspicion. For instance, commonly used ports and protocols in ICS environments, and even expected IT resources, depending on the target network. Command and Control may be established to varying degrees of stealth, often depending on the victim’s network structure and defenses.',\n",
       " 'Inhibit Response Function: The adversary is trying to prevent your safety, protection, quality assurance, and operator intervention functions from responding to a failure, hazard, or unsafe state.Inhibit Response Function consists of techniques that adversaries use to hinder the safeguards put in place for processes and products. This may involve the inhibition of safety, protection, quality assurance, or operator intervention functions to disrupt safeguards that aim to prevent the loss of life, destruction of equipment, and disruption of production. These techniques aim to actively deter and prevent expected alarms and responses that arise due to statuses in the ICS environment. Adversaries may modify or update system logic, or even outright prevent responses with a denial-of-service. They may result in the prevention, destruction, manipulation, or modification of programs, logic, devices, and communications. As prevention functions are generally dormant, reporting and processing functions can appear fine, but may have been altered to prevent failure responses in dangerous scenarios. Unlike Evasion, Inhibit Response Function techniques may be more intrusive, such as actively preventing responses to a known dangerous scenario. Adversaries may use these techniques to follow through with or provide cover for Impact techniques.',\n",
       " 'Impair Process Control: The adversary is trying to manipulate, disable, or damage physical control processes.Impair Process Control consists of techniques that adversaries use to disrupt control logic and cause determinantal effects to processes being controlled in the target environment. Targets of interest may include active procedures or parameters that manipulate the physical environment. These techniques can also include prevention or manipulation of reporting elements and control logic. If an adversary has modified process functionality, then they may also obfuscate the results, which are often self-revealing in their impact on the outcome of a product or the environment. The direct physical control these techniques exert may also threaten the safety of operators and downstream users, which can prompt response mechanisms. Adversaries may follow up with or use Inhibit Response Function techniques in tandem, to assist with the successful abuse of control processes to result in Impact.',\n",
       " 'Impact: The adversary is trying to manipulate, interrupt, or destroy your ICS systems, data, and their surrounding environment.Impact consists of techniques that adversaries use to disrupt, compromise, destroy, and manipulate the integrity and availability of control system operations, processes, devices, and data. These techniques encompass the influence and effects resulting from adversarial efforts to attack the ICS environment or that tangentially impact it. Impact techniques can result in more instantaneous disruption to control processes and the operator, or may result in more long term damage or loss to the ICS environment and related operations. The adversary may leverage Impair Process Control techniques, which often manifest in more self-revealing impacts on operations, or Impair Process Control techniques to hinder safeguards and alarms in order to follow through with and provide cover for Impact. In some scenarios, control system processes can appear to function as expected, but may have been altered to benefit the adversary’s goal over the course of a longer duration. These techniques might be used by adversaries to follow through on their end goal or to provide cover for a confidentiality breach.Loss of Productivity and Revenue, Theft of Operational Information, and Damage to Property are meant to encompass some of the more granular goals of adversaries in targeted and untargeted attacks. These techniques in and of themselves are not necessarily detectable, but the associated adversary behavior can potentially be mitigated and/or detected.']"
      ]
     },
     "execution_count": 7,
     "metadata": {},
     "output_type": "execute_result"
    }
   ],
   "source": [
    "def get_tactic_data(tactic_urls):\n",
    "\n",
    "    data = []\n",
    "    \n",
    "\n",
    "    for url in tactic_urls:\n",
    "        response = requests.get(url)\n",
    "        soup = BeautifulSoup(response.text, \"html.parser\")\n",
    "        tactic_name = soup.find(\"h1\")\n",
    "        tactic_desc = soup.find_all(\"p\")\n",
    "        tactic_text = \"\"\n",
    "        for desc in tactic_desc:\n",
    "            tactic_text = tactic_text + desc.text.strip()\n",
    "        \n",
    "        data.append(tactic_name.text.strip() + \": \" + tactic_text)\n",
    "\n",
    "    return data\n",
    "        \n",
    "\n",
    "data = get_tactic_data(tactic_urls)\n",
    "data\n",
    "\n"
   ]
  },
  {
   "cell_type": "code",
   "execution_count": null,
   "metadata": {},
   "outputs": [],
   "source": [
    "def save_data_to_txt(filepath, data: list):\n",
    "    if (not os.path.exists(filepath)) or (os.path.getsize(filepath) == 0):\n",
    "        with open(filepath, \"w\") as f:\n",
    "            for i in data:\n",
    "                f.write(i + \"\\n\")\n",
    "        print(\"Data saved in text file successfully!\")\n",
    "\n",
    "    else:\n",
    "        print(\"Text file already exists!\")"
   ]
  },
  {
   "cell_type": "code",
   "execution_count": null,
   "metadata": {},
   "outputs": [
    {
     "name": "stdout",
     "output_type": "stream",
     "text": [
      "Data saved in CSV successfully!\n"
     ]
    }
   ],
   "source": [
    "save_data_to_txt(\"data/raw/mitre_tactics.csv\", data)"
   ]
  },
  {
   "cell_type": "markdown",
   "metadata": {},
   "source": [
    "### Scrape Techniques Data"
   ]
  },
  {
   "cell_type": "code",
   "execution_count": 11,
   "metadata": {},
   "outputs": [],
   "source": [
    "URL_LIST = [\"https://attack.mitre.org/techniques/enterprise/\", \"https://attack.mitre.org/techniques/mobile/\",\n",
    "            \"https://attack.mitre.org/techniques/ics/\"]\n",
    "\n",
    "\n",
    "def get_techniques_data(URL_list):\n",
    "    data = []\n",
    "\n",
    "    for url in URL_list:\n",
    "        response = requests.get(url)\n",
    "        soup = BeautifulSoup(response.text, \"html.parser\")\n",
    "        \n",
    "        for row in soup.select(\"tr\", class_=\"technique\"):\n",
    "            cols = row.find_all(\"td\")\n",
    "            \n",
    "            for col in cols[1:]:\n",
    "                data.append(col.text.strip())\n",
    "    \n",
    "    return data\n",
    "                \n",
    "data = get_techniques_data(URL_LIST)\n"
   ]
  },
  {
   "cell_type": "code",
   "execution_count": 12,
   "metadata": {},
   "outputs": [
    {
     "name": "stdout",
     "output_type": "stream",
     "text": [
      "1592\n"
     ]
    }
   ],
   "source": [
    "print(len(set(data)))"
   ]
  },
  {
   "cell_type": "code",
   "execution_count": null,
   "metadata": {},
   "outputs": [
    {
     "name": "stdout",
     "output_type": "stream",
     "text": [
      "Data saved in CSV successfully!\n"
     ]
    }
   ],
   "source": [
    "save_data_to_txt(\"data/raw/mitre_techniques.csv\", data)"
   ]
  },
  {
   "cell_type": "markdown",
   "metadata": {},
   "source": [
    "### Scrape Mitigations Data"
   ]
  },
  {
   "cell_type": "code",
   "execution_count": 14,
   "metadata": {},
   "outputs": [],
   "source": [
    "URL_LIST = [\"https://attack.mitre.org/mitigations/enterprise/\", \"https://attack.mitre.org/mitigations/mobile/\",\n",
    "            \"https://attack.mitre.org/mitigations/ics/\"]"
   ]
  },
  {
   "cell_type": "code",
   "execution_count": 16,
   "metadata": {},
   "outputs": [],
   "source": [
    "def get_mitigations_data(URL_list):\n",
    "    data = []\n",
    "    for url in URL_list:\n",
    "        response = requests.get(url)\n",
    "        soup = BeautifulSoup(response.text, \"html.parser\")\n",
    "        for row in soup.select(\"tr\")[1:]:\n",
    "            cols = row.find_all(\"td\")\n",
    "            mitigation_name = cols[1].text.strip()\n",
    "            mitigation_desc = cols[2].text.strip()\n",
    "            data.append(mitigation_name + \": \" + mitigation_desc)\n",
    "    \n",
    "    return data\n",
    "\n",
    "data = get_mitigations_data(URL_LIST)"
   ]
  },
  {
   "cell_type": "code",
   "execution_count": null,
   "metadata": {},
   "outputs": [
    {
     "name": "stdout",
     "output_type": "stream",
     "text": [
      "Data saved in CSV successfully!\n"
     ]
    }
   ],
   "source": [
    "save_data_to_txt(\"data/raw/mitre_mitgations.csv\", data)"
   ]
  }
 ],
 "metadata": {
  "kernelspec": {
   "display_name": "venv",
   "language": "python",
   "name": "python3"
  },
  "language_info": {
   "codemirror_mode": {
    "name": "ipython",
    "version": 3
   },
   "file_extension": ".py",
   "mimetype": "text/x-python",
   "name": "python",
   "nbconvert_exporter": "python",
   "pygments_lexer": "ipython3",
   "version": "3.10.0"
  }
 },
 "nbformat": 4,
 "nbformat_minor": 2
}
